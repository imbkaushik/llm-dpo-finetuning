{
 "cells": [
  {
   "cell_type": "code",
   "execution_count": null,
   "id": "e4af648e",
   "metadata": {},
   "outputs": [],
   "source": [
    "# Cell 1: Setup and Dependencies\n",
    "# Install required libraries\n",
    "!pip install -q pandas datasets torch trl transformers==4.48.0 accelerate\n",
    "\n",
    "import warnings\n",
    "warnings.filterwarnings(\"ignore\")\n",
    "\n",
    "# Import libraries\n",
    "import os\n",
    "import torch\n",
    "from datasets import load_dataset\n",
    "from transformers import AutoModelForCausalLM, AutoTokenizer, pipeline\n",
    "from trl import DPOConfig, DPOTrainer\n",
    "from google.colab import userdata"
   ]
  },
  {
   "cell_type": "code",
   "execution_count": null,
   "id": "5c798877",
   "metadata": {},
   "outputs": [],
   "source": [
    "# Cell 2: Load Dataset from Hugging Face Hub\n",
    "hf_username = \"your_user_name\"\n",
    "dataset = load_dataset(f\"{hf_username}/youtube-titles-dpo\")\n",
    "\n",
    "print(dataset)"
   ]
  },
  {
   "cell_type": "code",
   "execution_count": null,
   "id": "36621a59",
   "metadata": {},
   "outputs": [],
   "source": [
    "# Cell 3: Load Base Model and Tokenizer\n",
    "# Load the base model to be fine-tuned\n",
    "model_name = \"Qwen/Qwen2.5-0.5B-Instruct\"\n",
    "\n",
    "model = AutoModelForCausalLM.from_pretrained(model_name, torch_dtype=torch.bfloat16)\n",
    "tokenizer = AutoTokenizer.from_pretrained(model_name)\n",
    "tokenizer.pad_token = tokenizer.eos_token"
   ]
  },
  {
   "cell_type": "code",
   "execution_count": null,
   "id": "349e5fe7",
   "metadata": {},
   "outputs": [],
   "source": [
    "# Cell 4: Configure and Run DPOTrainer\n",
    "\n",
    "ft_model_name = \"Qwen2.5-0.5B-DPO-YouTube-Titles\"\n",
    "\n",
    "# Configure DPO training arguments\n",
    "training_args = DPOConfig(\n",
    "    output_dir=ft_model_name,\n",
    "    logging_steps=25,\n",
    "    per_device_train_batch_size=8,\n",
    "    per_device_eval_batch_size=8,\n",
    "    num_train_epochs=3,\n",
    "    load_best_model_at_end=True,\n",
    "    metric_for_best_model=\"eval_loss\",\n",
    "    save_strategy=\"epoch\",\n",
    "    eval_strategy=\"epoch\",\n",
    "    gradient_accumulation_steps=2,\n",
    "    learning_rate=5e-6,\n",
    "    beta=0.1,\n",
    ")\n",
    "\n",
    "# Initialize the DPOTrainer\n",
    "trainer = DPOTrainer(\n",
    "    model=model,\n",
    "    args=training_args,\n",
    "    train_dataset=dataset['train'],\n",
    "    eval_dataset=dataset['valid'],\n",
    "    processing_class=tokenizer,\n",
    ")\n",
    "\n",
    "print(\"Starting DPO training...\")\n",
    "trainer.train()\n",
    "print(\"Training complete.\")"
   ]
  },
  {
   "cell_type": "code",
   "execution_count": null,
   "id": "6984f029",
   "metadata": {},
   "outputs": [],
   "source": [
    "# Cell 5: Push Fine-Tuned Model to Hub\n",
    "from huggingface_hub import notebook_login\n",
    "notebook_login()\n",
    "model_id = f\"{hf_username}/{ft_model_name}\"\n",
    "trainer.push_to_hub(model_id)\n",
    "print(f\"Model pushed to {model_id}\")"
   ]
  }
 ],
 "metadata": {
  "language_info": {
   "name": "python"
  }
 },
 "nbformat": 4,
 "nbformat_minor": 5
}
